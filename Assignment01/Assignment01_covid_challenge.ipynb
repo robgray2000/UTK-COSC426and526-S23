{
 "cells": [
  {
   "cell_type": "markdown",
   "id": "5f09fcd7",
   "metadata": {},
   "source": [
    "## Assignment 1: Assess your Python Programming Skills\n",
    "\n",
    "This simple set of assignments will help you to assess your Python programming skills. Try to solve the individual problems without searching for a solution online but basing your coding exclusively on your skills. Please keep in mind that the assignment during this course may be more challenging than this one.\n",
    "\n",
    "\n",
    "## Dataset Information\n",
    "\n",
    "The dataset for this problem comes from [this Kaggle page](https://www.kaggle.com/yamqwe/omicron-covid19-variant-daily-cases?select=covid-variants.csv). A copy of the file is also in the same directory as this Jupyter notebook.\n",
    "\n",
    "This dataset contains data about the processing of COVID-19 sequences by different countries over time. It comes as a Comma-Separated Value (CSV) file. This file contains the following 6 columns:\n",
    "\n",
    "1. `location`: the country for which the information is provided\n",
    "2. `date`: the date of the data entry\n",
    "3. `variant`: the COVID-19 variant for the data entry\n",
    "4. `num_sequences`: the number of sequences **processed** (for the country, variant, and date)\n",
    "5. `num_sequences_total`: the number of sequences **available** (for the country, variant, and date)\n",
    "6. `perc_sequences`: the percentage of available number of sequences that were processed (*Note: this value is out of 100*)\n",
    "\n",
    "Each row in the dataset represents the processing of *one* variant by *one* country on *one* day."
   ]
  },
  {
   "cell_type": "code",
   "execution_count": 1,
   "id": "c0ba54e2",
   "metadata": {},
   "outputs": [],
   "source": [
    "## Import any package you may need here below \n",
    "import pandas as pd\n",
    "import numpy as np"
   ]
  },
  {
   "cell_type": "code",
   "execution_count": 2,
   "id": "f30c8202",
   "metadata": {},
   "outputs": [
    {
     "data": {
      "text/html": [
       "<div>\n",
       "<style scoped>\n",
       "    .dataframe tbody tr th:only-of-type {\n",
       "        vertical-align: middle;\n",
       "    }\n",
       "\n",
       "    .dataframe tbody tr th {\n",
       "        vertical-align: top;\n",
       "    }\n",
       "\n",
       "    .dataframe thead th {\n",
       "        text-align: right;\n",
       "    }\n",
       "</style>\n",
       "<table border=\"1\" class=\"dataframe\">\n",
       "  <thead>\n",
       "    <tr style=\"text-align: right;\">\n",
       "      <th></th>\n",
       "      <th>location</th>\n",
       "      <th>date</th>\n",
       "      <th>variant</th>\n",
       "      <th>num_sequences</th>\n",
       "      <th>perc_sequences</th>\n",
       "      <th>num_sequences_total</th>\n",
       "    </tr>\n",
       "  </thead>\n",
       "  <tbody>\n",
       "    <tr>\n",
       "      <th>0</th>\n",
       "      <td>Angola</td>\n",
       "      <td>2020-07-06</td>\n",
       "      <td>Alpha</td>\n",
       "      <td>0</td>\n",
       "      <td>0.0</td>\n",
       "      <td>3</td>\n",
       "    </tr>\n",
       "    <tr>\n",
       "      <th>1</th>\n",
       "      <td>Angola</td>\n",
       "      <td>2020-07-06</td>\n",
       "      <td>B.1.1.277</td>\n",
       "      <td>0</td>\n",
       "      <td>0.0</td>\n",
       "      <td>3</td>\n",
       "    </tr>\n",
       "    <tr>\n",
       "      <th>2</th>\n",
       "      <td>Angola</td>\n",
       "      <td>2020-07-06</td>\n",
       "      <td>B.1.1.302</td>\n",
       "      <td>0</td>\n",
       "      <td>0.0</td>\n",
       "      <td>3</td>\n",
       "    </tr>\n",
       "    <tr>\n",
       "      <th>3</th>\n",
       "      <td>Angola</td>\n",
       "      <td>2020-07-06</td>\n",
       "      <td>B.1.1.519</td>\n",
       "      <td>0</td>\n",
       "      <td>0.0</td>\n",
       "      <td>3</td>\n",
       "    </tr>\n",
       "    <tr>\n",
       "      <th>4</th>\n",
       "      <td>Angola</td>\n",
       "      <td>2020-07-06</td>\n",
       "      <td>B.1.160</td>\n",
       "      <td>0</td>\n",
       "      <td>0.0</td>\n",
       "      <td>3</td>\n",
       "    </tr>\n",
       "    <tr>\n",
       "      <th>...</th>\n",
       "      <td>...</td>\n",
       "      <td>...</td>\n",
       "      <td>...</td>\n",
       "      <td>...</td>\n",
       "      <td>...</td>\n",
       "      <td>...</td>\n",
       "    </tr>\n",
       "    <tr>\n",
       "      <th>100411</th>\n",
       "      <td>Zimbabwe</td>\n",
       "      <td>2021-11-01</td>\n",
       "      <td>Omicron</td>\n",
       "      <td>0</td>\n",
       "      <td>0.0</td>\n",
       "      <td>6</td>\n",
       "    </tr>\n",
       "    <tr>\n",
       "      <th>100412</th>\n",
       "      <td>Zimbabwe</td>\n",
       "      <td>2021-11-01</td>\n",
       "      <td>S:677H.Robin1</td>\n",
       "      <td>0</td>\n",
       "      <td>0.0</td>\n",
       "      <td>6</td>\n",
       "    </tr>\n",
       "    <tr>\n",
       "      <th>100413</th>\n",
       "      <td>Zimbabwe</td>\n",
       "      <td>2021-11-01</td>\n",
       "      <td>S:677P.Pelican</td>\n",
       "      <td>0</td>\n",
       "      <td>0.0</td>\n",
       "      <td>6</td>\n",
       "    </tr>\n",
       "    <tr>\n",
       "      <th>100414</th>\n",
       "      <td>Zimbabwe</td>\n",
       "      <td>2021-11-01</td>\n",
       "      <td>others</td>\n",
       "      <td>0</td>\n",
       "      <td>0.0</td>\n",
       "      <td>6</td>\n",
       "    </tr>\n",
       "    <tr>\n",
       "      <th>100415</th>\n",
       "      <td>Zimbabwe</td>\n",
       "      <td>2021-11-01</td>\n",
       "      <td>non_who</td>\n",
       "      <td>0</td>\n",
       "      <td>0.0</td>\n",
       "      <td>6</td>\n",
       "    </tr>\n",
       "  </tbody>\n",
       "</table>\n",
       "<p>100416 rows × 6 columns</p>\n",
       "</div>"
      ],
      "text/plain": [
       "        location        date         variant  num_sequences  perc_sequences  \\\n",
       "0         Angola  2020-07-06           Alpha              0             0.0   \n",
       "1         Angola  2020-07-06       B.1.1.277              0             0.0   \n",
       "2         Angola  2020-07-06       B.1.1.302              0             0.0   \n",
       "3         Angola  2020-07-06       B.1.1.519              0             0.0   \n",
       "4         Angola  2020-07-06         B.1.160              0             0.0   \n",
       "...          ...         ...             ...            ...             ...   \n",
       "100411  Zimbabwe  2021-11-01         Omicron              0             0.0   \n",
       "100412  Zimbabwe  2021-11-01   S:677H.Robin1              0             0.0   \n",
       "100413  Zimbabwe  2021-11-01  S:677P.Pelican              0             0.0   \n",
       "100414  Zimbabwe  2021-11-01          others              0             0.0   \n",
       "100415  Zimbabwe  2021-11-01         non_who              0             0.0   \n",
       "\n",
       "        num_sequences_total  \n",
       "0                         3  \n",
       "1                         3  \n",
       "2                         3  \n",
       "3                         3  \n",
       "4                         3  \n",
       "...                     ...  \n",
       "100411                    6  \n",
       "100412                    6  \n",
       "100413                    6  \n",
       "100414                    6  \n",
       "100415                    6  \n",
       "\n",
       "[100416 rows x 6 columns]"
      ]
     },
     "execution_count": 2,
     "metadata": {},
     "output_type": "execute_result"
    }
   ],
   "source": [
    "## Add here anything else you may need\n",
    "data = pd.read_csv('covid-variants.csv')\n",
    "data"
   ]
  },
  {
   "cell_type": "markdown",
   "id": "760c5a8f",
   "metadata": {},
   "source": [
    "## 1. Find Uncommon Variants\n",
    "\n",
    "The 3 main variants of COVID-19 that we've experienced in the US are:\n",
    "\n",
    "1. Alpha\n",
    "2. Delta\n",
    "3. Omicron\n",
    "\n",
    "However, there are many other variants recognized by the WHO. \n",
    "\n",
    "Determine which other variants are included in this dataset.\n",
    "\n",
    "Sort the variant names alphanumerically and store them in a Python list.\n",
    "\n",
    "*Note: the \"variants\" column of the dataset contains 2 \"catch-all\" categories called \"**non_who**\" and \"**others**\". Do **NOT** include these categories in the list."
   ]
  },
  {
   "cell_type": "code",
   "execution_count": 3,
   "id": "c4f869b7",
   "metadata": {},
   "outputs": [
    {
     "data": {
      "text/plain": [
       "['Alpha',\n",
       " 'B.1.1.277',\n",
       " 'B.1.1.302',\n",
       " 'B.1.1.519',\n",
       " 'B.1.160',\n",
       " 'B.1.177',\n",
       " 'B.1.221',\n",
       " 'B.1.258',\n",
       " 'B.1.367',\n",
       " 'B.1.620',\n",
       " 'Beta',\n",
       " 'Delta',\n",
       " 'Epsilon',\n",
       " 'Eta',\n",
       " 'Gamma',\n",
       " 'Iota',\n",
       " 'Kappa',\n",
       " 'Lambda',\n",
       " 'Mu',\n",
       " 'Omicron',\n",
       " 'S:677H.Robin1',\n",
       " 'S:677P.Pelican']"
      ]
     },
     "execution_count": 3,
     "metadata": {},
     "output_type": "execute_result"
    }
   ],
   "source": [
    "## Write here your code\n",
    "variantlist = data.variant.unique().tolist()\n",
    "variantlist.remove('non_who')\n",
    "variantlist.remove('others')\n",
    "variantlist"
   ]
  },
  {
   "cell_type": "markdown",
   "id": "5cbdeb65",
   "metadata": {},
   "source": [
    "## 2. Find the Most Processed Variant\n",
    "\n",
    "Determine which variant of COVID-19 has the most sequences processed.\n"
   ]
  },
  {
   "cell_type": "code",
   "execution_count": 4,
   "id": "e9efb902",
   "metadata": {},
   "outputs": [
    {
     "data": {
      "text/html": [
       "<div>\n",
       "<style scoped>\n",
       "    .dataframe tbody tr th:only-of-type {\n",
       "        vertical-align: middle;\n",
       "    }\n",
       "\n",
       "    .dataframe tbody tr th {\n",
       "        vertical-align: top;\n",
       "    }\n",
       "\n",
       "    .dataframe thead th {\n",
       "        text-align: right;\n",
       "    }\n",
       "</style>\n",
       "<table border=\"1\" class=\"dataframe\">\n",
       "  <thead>\n",
       "    <tr style=\"text-align: right;\">\n",
       "      <th></th>\n",
       "      <th>variant</th>\n",
       "      <th>num_sequences</th>\n",
       "    </tr>\n",
       "  </thead>\n",
       "  <tbody>\n",
       "    <tr>\n",
       "      <th>11</th>\n",
       "      <td>Delta</td>\n",
       "      <td>3834100</td>\n",
       "    </tr>\n",
       "  </tbody>\n",
       "</table>\n",
       "</div>"
      ],
      "text/plain": [
       "   variant  num_sequences\n",
       "11   Delta        3834100"
      ]
     },
     "execution_count": 4,
     "metadata": {},
     "output_type": "execute_result"
    }
   ],
   "source": [
    "## Write here your code\n",
    "mostprocessed = pd.DataFrame(data.groupby(['variant'])['num_sequences'].sum().reset_index())\n",
    "mostprocessed.sort_values('num_sequences', ascending = False) #not necessary, double checking\n",
    "mostprocessed = mostprocessed[mostprocessed.num_sequences == mostprocessed.num_sequences.max()]\n",
    "mostprocessed\n",
    "#Delta is the most processed with 3,834,100 sequences"
   ]
  },
  {
   "cell_type": "markdown",
   "id": "663db8ac",
   "metadata": {},
   "source": [
    "## 3. Find Best Country at Processing All Sequences\n",
    "\n",
    "Determine which country did the best at processing sequences across **all** variants (including \"catch all\" categories).\n",
    "\n",
    "The output should be the name of a single country.\n"
   ]
  },
  {
   "cell_type": "code",
   "execution_count": 5,
   "id": "75c31b41",
   "metadata": {},
   "outputs": [
    {
     "data": {
      "text/plain": [
       "'United States'"
      ]
     },
     "execution_count": 5,
     "metadata": {},
     "output_type": "execute_result"
    }
   ],
   "source": [
    "## Write here your code\n",
    "bestcountry = pd.DataFrame(data.groupby(['location'])['num_sequences'].sum().reset_index())\n",
    "bestcountry = bestcountry[bestcountry.num_sequences == bestcountry.num_sequences.max()]\n",
    "bestcountry.location.iloc[0]\n",
    "#United States processed the most across all variants"
   ]
  },
  {
   "cell_type": "markdown",
   "id": "11d1d3a0",
   "metadata": {},
   "source": [
    "## 4a. Find Best Country at Processing Specific Sequences\n",
    "\n",
    "Determine which country did the best at processing sequences across the Alpha, Delta, and Omicron variants.\n",
    "\n",
    "The output should be the name of a single country.\n"
   ]
  },
  {
   "cell_type": "code",
   "execution_count": 6,
   "id": "fcafdd2e",
   "metadata": {},
   "outputs": [
    {
     "data": {
      "text/plain": [
       "'United States'"
      ]
     },
     "execution_count": 6,
     "metadata": {},
     "output_type": "execute_result"
    }
   ],
   "source": [
    "## Write here your code\n",
    "bestcountry2 = data[(data.variant == 'Alpha') | (data.variant == 'Delta') | (data.variant == 'Omicron')]\n",
    "bestcountry2 = pd.DataFrame(bestcountry2.groupby(['location'])['num_sequences'].sum().reset_index())\n",
    "bestcountry2out = bestcountry2[bestcountry2.num_sequences == bestcountry2.num_sequences.max()]\n",
    "bestcountry2out.location.iloc[0]\n",
    "#United States processed the most across specifically Alpha, Delta, and Omicron variants"
   ]
  },
  {
   "cell_type": "markdown",
   "id": "9ccb8782",
   "metadata": {},
   "source": [
    "## 4b. Find the Ranking of the US at Processing Specific Sequences\n",
    "\n",
    "Determine the ranking of the US at processing sequences across the Alpha, Delta, and Omicron variants.\n",
    "\n",
    "Store the ranking as an integer.\n",
    "\n",
    "*Note: the best country has a ranking of 1, but indexing in Python starts at 0.*\n",
    "\n",
    "*Note: in Jupyter, variables from already executed code cells are available in other code cells. This means you shouldn't have to copy and paste code from problem 4a.*"
   ]
  },
  {
   "cell_type": "code",
   "execution_count": 7,
   "id": "038e81b5",
   "metadata": {},
   "outputs": [
    {
     "data": {
      "text/html": [
       "<div>\n",
       "<style scoped>\n",
       "    .dataframe tbody tr th:only-of-type {\n",
       "        vertical-align: middle;\n",
       "    }\n",
       "\n",
       "    .dataframe tbody tr th {\n",
       "        vertical-align: top;\n",
       "    }\n",
       "\n",
       "    .dataframe thead th {\n",
       "        text-align: right;\n",
       "    }\n",
       "</style>\n",
       "<table border=\"1\" class=\"dataframe\">\n",
       "  <thead>\n",
       "    <tr style=\"text-align: right;\">\n",
       "      <th></th>\n",
       "      <th>location</th>\n",
       "      <th>num_sequences</th>\n",
       "      <th>ranking</th>\n",
       "    </tr>\n",
       "  </thead>\n",
       "  <tbody>\n",
       "    <tr>\n",
       "      <th>0</th>\n",
       "      <td>United States</td>\n",
       "      <td>1595808</td>\n",
       "      <td>1</td>\n",
       "    </tr>\n",
       "    <tr>\n",
       "      <th>1</th>\n",
       "      <td>United Kingdom</td>\n",
       "      <td>1413632</td>\n",
       "      <td>2</td>\n",
       "    </tr>\n",
       "    <tr>\n",
       "      <th>2</th>\n",
       "      <td>Germany</td>\n",
       "      <td>292106</td>\n",
       "      <td>3</td>\n",
       "    </tr>\n",
       "    <tr>\n",
       "      <th>3</th>\n",
       "      <td>Denmark</td>\n",
       "      <td>225315</td>\n",
       "      <td>4</td>\n",
       "    </tr>\n",
       "    <tr>\n",
       "      <th>4</th>\n",
       "      <td>Japan</td>\n",
       "      <td>140074</td>\n",
       "      <td>5</td>\n",
       "    </tr>\n",
       "    <tr>\n",
       "      <th>...</th>\n",
       "      <td>...</td>\n",
       "      <td>...</td>\n",
       "      <td>...</td>\n",
       "    </tr>\n",
       "    <tr>\n",
       "      <th>116</th>\n",
       "      <td>Monaco</td>\n",
       "      <td>79</td>\n",
       "      <td>117</td>\n",
       "    </tr>\n",
       "    <tr>\n",
       "      <th>117</th>\n",
       "      <td>Hungary</td>\n",
       "      <td>29</td>\n",
       "      <td>118</td>\n",
       "    </tr>\n",
       "    <tr>\n",
       "      <th>118</th>\n",
       "      <td>Madagascar</td>\n",
       "      <td>27</td>\n",
       "      <td>119</td>\n",
       "    </tr>\n",
       "    <tr>\n",
       "      <th>119</th>\n",
       "      <td>Cyprus</td>\n",
       "      <td>20</td>\n",
       "      <td>120</td>\n",
       "    </tr>\n",
       "    <tr>\n",
       "      <th>120</th>\n",
       "      <td>Uruguay</td>\n",
       "      <td>0</td>\n",
       "      <td>121</td>\n",
       "    </tr>\n",
       "  </tbody>\n",
       "</table>\n",
       "<p>121 rows × 3 columns</p>\n",
       "</div>"
      ],
      "text/plain": [
       "           location  num_sequences  ranking\n",
       "0     United States        1595808        1\n",
       "1    United Kingdom        1413632        2\n",
       "2           Germany         292106        3\n",
       "3           Denmark         225315        4\n",
       "4             Japan         140074        5\n",
       "..              ...            ...      ...\n",
       "116          Monaco             79      117\n",
       "117         Hungary             29      118\n",
       "118      Madagascar             27      119\n",
       "119          Cyprus             20      120\n",
       "120         Uruguay              0      121\n",
       "\n",
       "[121 rows x 3 columns]"
      ]
     },
     "execution_count": 7,
     "metadata": {},
     "output_type": "execute_result"
    }
   ],
   "source": [
    "## Write here your code\n",
    "bestcountry3 = bestcountry2.sort_values(['num_sequences'], ascending = False)\n",
    "bestcountry3 = bestcountry3.reset_index()\n",
    "bestcountry3 = bestcountry3.drop('index', axis=1)\n",
    "bestcountry3['ranking'] = bestcountry3.index.get_level_values(0).values + 1\n",
    "bestcountry3\n",
    "#Added ranking column to table"
   ]
  },
  {
   "cell_type": "markdown",
   "id": "283e46d3",
   "metadata": {},
   "source": [
    "## 5. Find the Number of Processed Sequences Per Country on Date\n",
    "\n",
    "Determine each country's total number of processed sequences for the Omicron variant on December 27, 2021.\n",
    "\n",
    "Sort the output from the highest number of processed sequences to the smallest number of processed sequences.\n",
    "\n",
    "Store the result as a list of tuples, with each tuple containing the country name first and the number of processed sequences second.\n"
   ]
  },
  {
   "cell_type": "code",
   "execution_count": 8,
   "id": "6cf6efa9",
   "metadata": {},
   "outputs": [
    {
     "data": {
      "text/plain": [
       "[('United Kingdom', 52456),\n",
       " ('United States', 24681),\n",
       " ('Denmark', 3331),\n",
       " ('Germany', 1701),\n",
       " ('Israel', 1578),\n",
       " ('Australia', 1319),\n",
       " ('Switzerland', 514),\n",
       " ('France', 509),\n",
       " ('Italy', 486),\n",
       " ('Belgium', 464),\n",
       " ('Spain', 461),\n",
       " ('Sweden', 434),\n",
       " ('Chile', 260),\n",
       " ('Netherlands', 254),\n",
       " ('Singapore', 249),\n",
       " ('Mexico', 240),\n",
       " ('Turkey', 202),\n",
       " ('India', 174),\n",
       " ('Brazil', 147),\n",
       " ('Botswana', 142),\n",
       " ('Indonesia', 128),\n",
       " ('Portugal', 118),\n",
       " ('Japan', 118),\n",
       " ('Argentina', 80),\n",
       " ('New Zealand', 63),\n",
       " ('South Africa', 61),\n",
       " ('Lithuania', 50),\n",
       " ('Czechia', 49),\n",
       " ('Georgia', 46),\n",
       " ('Russia', 45),\n",
       " ('Colombia', 37),\n",
       " ('Sri Lanka', 37),\n",
       " ('Hong Kong', 35),\n",
       " ('Malta', 34),\n",
       " ('Poland', 28),\n",
       " ('Ecuador', 26),\n",
       " ('Canada', 25),\n",
       " ('Jordan', 22),\n",
       " ('Malawi', 21),\n",
       " ('Cambodia', 18),\n",
       " ('Norway', 17),\n",
       " ('Morocco', 15),\n",
       " ('Senegal', 15),\n",
       " ('Costa Rica', 14),\n",
       " ('Pakistan', 11),\n",
       " ('Nigeria', 10),\n",
       " ('Peru', 10),\n",
       " ('Trinidad and Tobago', 8),\n",
       " ('Brunei', 8),\n",
       " ('Slovakia', 8),\n",
       " ('Zambia', 7),\n",
       " ('Maldives', 7),\n",
       " ('Thailand', 6),\n",
       " ('Malaysia', 5),\n",
       " ('Bangladesh', 4),\n",
       " ('Romania', 3),\n",
       " ('Oman', 1),\n",
       " ('Ukraine', 1),\n",
       " ('Iran', 1),\n",
       " ('Vietnam', 1),\n",
       " ('South Korea', 0),\n",
       " ('Nepal', 0),\n",
       " ('Monaco', 0),\n",
       " ('Moldova', 0)]"
      ]
     },
     "execution_count": 8,
     "metadata": {},
     "output_type": "execute_result"
    }
   ],
   "source": [
    "## Write here your code\n",
    "bestcountry4 = data[(data.variant == 'Omicron') & (data.date == \"2021-12-27\")]\n",
    "bestcountry4 = pd.DataFrame(bestcountry4.groupby(['location'])['num_sequences'].sum().reset_index())\n",
    "bestcountry4 = bestcountry4.sort_values(['num_sequences'], ascending = False)\n",
    "bestcountry4 = bestcountry4.reset_index()\n",
    "bestcountry4 = bestcountry4.drop('index', axis=1)\n",
    "bestcountry4 = list(bestcountry4.itertuples(index = False, name = None))\n",
    "bestcountry4"
   ]
  },
  {
   "cell_type": "markdown",
   "id": "c2e3afa3",
   "metadata": {},
   "source": [
    "## 6. Find Percentage of Sequences Processed in the US\n",
    "\n",
    "Determine the percentage of processed sequences for the Alpha, Delta, and Omicron variants in the US.\n",
    "\n",
    "Store the result as a dictionary where keys are variant names and values are percentages.\n"
   ]
  },
  {
   "cell_type": "code",
   "execution_count": 9,
   "id": "53126a9c",
   "metadata": {},
   "outputs": [
    {
     "data": {
      "text/plain": [
       "{'Alpha': '9.91%', 'Delta': '54.84%', 'Omicron': '1.18%'}"
      ]
     },
     "execution_count": 9,
     "metadata": {},
     "output_type": "execute_result"
    }
   ],
   "source": [
    "## Write here your code\n",
    "totalsequences = sum(data.num_sequences[(data.location == 'United States')]) #For all variants in the US\n",
    "alphatotal = sum(data.num_sequences[(data.variant == 'Alpha') & (data.location == 'United States')])\n",
    "deltatotal = sum(data.num_sequences[(data.variant == 'Delta') & (data.location == 'United States')])\n",
    "omicrontotal = sum(data.num_sequences[(data.variant == 'Omicron') & (data.location == 'United States')])\n",
    "variantdictionary = {\n",
    "    'Alpha': \"{:.2%}\".format(alphatotal / totalsequences),\n",
    "    'Delta' : \"{:.2%}\".format(deltatotal / totalsequences),\n",
    "    'Omicron' : \"{:.2%}\".format(omicrontotal / totalsequences)\n",
    "}\n",
    "\n",
    "variantdictionary"
   ]
  },
  {
   "cell_type": "markdown",
   "id": "07cc884c",
   "metadata": {},
   "source": [
    "Report below the challenges you faced in solving this assignment:"
   ]
  },
  {
   "cell_type": "markdown",
   "id": "6a1d808d",
   "metadata": {},
   "source": [
    "Write here your answer"
   ]
  },
  {
   "cell_type": "code",
   "execution_count": 10,
   "id": "7b3be80e",
   "metadata": {},
   "outputs": [],
   "source": [
    "#I have not coded in Python recently, so remembering how to do even basic actions took some\n",
    "#researching, but in general I have coded in R recently so I still understand general steps needed"
   ]
  },
  {
   "cell_type": "code",
   "execution_count": null,
   "id": "ce307b4b",
   "metadata": {},
   "outputs": [],
   "source": []
  }
 ],
 "metadata": {
  "kernelspec": {
   "display_name": "Python 3 (ipykernel)",
   "language": "python",
   "name": "python3"
  },
  "language_info": {
   "codemirror_mode": {
    "name": "ipython",
    "version": 3
   },
   "file_extension": ".py",
   "mimetype": "text/x-python",
   "name": "python",
   "nbconvert_exporter": "python",
   "pygments_lexer": "ipython3",
   "version": "3.9.13"
  }
 },
 "nbformat": 4,
 "nbformat_minor": 5
}
